{
    "cells": [
        {
            "cell_type": "markdown",
            "id": "ac622319",
            "metadata": {},
            "source": [
                "# Descriptive statistics problems"
            ]
        },
        {
            "cell_type": "markdown",
            "id": "aa8993e4",
            "metadata": {},
            "source": [
                "### Exercise 1"
            ]
        },
        {
            "cell_type": "markdown",
            "id": "5e0ab0d5",
            "metadata": {},
            "source": [
                "We will use Numpy to obtain information to describe statistically.\n",
                "\n",
                "- Generate an array of 100 elements following a normal distribution.\n",
                "- Generate an array of 100 elements following a chi-square distribution with 3 degrees of freedom.\n",
                "- Calculate the main metrics and statistical measures that best describe the two vectors."
            ]
        },
        {
            "cell_type": "code",
            "execution_count": 12,
            "id": "34720ab6",
            "metadata": {},
            "outputs": [
                {
                    "name": "stdout",
                    "output_type": "stream",
                    "text": [
                        "Distribucion normal : [ 0.30368017  0.07282053 -0.2216942  -0.37420682 -0.06773263  0.88080682\n",
                        "  0.10631023  0.30405609 -0.36484108  0.09936211  0.68219363 -0.05871102\n",
                        " -0.61448021  0.79888948 -0.84857919 -0.28236334 -0.36971257  0.39261907\n",
                        "  0.41405815 -1.52356216  0.31321289  0.94397378  1.0338193  -0.92900126\n",
                        " -0.00777579  0.39374039 -0.60699449  0.44370271  0.60548152 -0.56199079\n",
                        " -1.57701089 -0.71636889 -1.03890777 -0.79810634 -0.20041542 -0.13950587\n",
                        " -0.40627584 -0.44126375 -0.66188285  0.44802068 -0.14023398 -0.3685062\n",
                        "  1.56624628  0.34692949  0.39219689 -1.76373651 -0.3287634  -0.51668129\n",
                        " -1.88240471  1.81992677  0.11057556  0.09970802  0.73050517 -0.22867151\n",
                        " -0.78933201 -0.119337    1.08981516 -0.45078253  0.24109817 -0.10834304\n",
                        "  0.97331736 -1.08118171 -1.89839127  0.38727762  1.57461478 -0.77041268\n",
                        "  1.70450789 -0.03619182 -0.14839836 -0.4962075  -0.97521929  1.1275347\n",
                        "  0.58978062 -0.90276564  1.27285902 -0.45580275  1.46983557  0.74974509\n",
                        " -0.67627278 -0.94325164  0.55976066 -1.65992582  0.44944632 -0.13138471\n",
                        " -1.5880395  -1.99159137  0.3940416  -1.78331101  1.08483428 -0.600327\n",
                        " -0.09616046 -2.2249891  -0.20541264 -0.39226468 -0.01401498 -0.81971398\n",
                        "  1.3428597  -1.81018455  1.11779085  0.22991805]\n",
                        "Distribucion chi: [ 1.58381135  1.19371552  0.60613416  2.36637791  1.53133177  2.88964787\n",
                        "  4.82243646  1.40057072  7.78525122  2.95443799  7.60146364  0.90453561\n",
                        "  3.6055305   1.73141896  0.7089493   7.79372492  0.21922647  3.60274405\n",
                        "  2.7978956   1.20912496  1.77005142  0.89679943  7.28334704  3.02767006\n",
                        "  2.95247892  0.40696347  4.66539001  4.08774635  1.3153445   6.48073042\n",
                        "  2.82051124  2.30137494  1.59757662  1.90519984  0.17339087  2.9936174\n",
                        "  0.71093223  3.74689926  3.59962302  3.28134024  1.03871852  3.5217713\n",
                        "  4.22568369  6.92804204  2.49008272  5.95021737  0.44627213  2.47405595\n",
                        "  1.89754772  1.0671842   2.19058678  1.78084451  3.18125419  4.51826117\n",
                        "  9.3411587   0.61404198  0.81278008  9.45783889  0.15158166  1.25308188\n",
                        "  1.31834124  1.65101317  6.57611704  3.65288133  1.5569188   0.58142525\n",
                        "  3.02333252  1.71797808  0.72645336  2.24325843  0.60125724  2.5629576\n",
                        "  2.81881568  1.0211578   2.46177655  2.79005644  2.59023085  0.29802981\n",
                        "  2.04052144  4.18068917  2.88596947  3.23537436  0.46238464  3.21860484\n",
                        "  0.46291029  1.75371543  2.37963589  1.21167281  0.27714538  2.78096053\n",
                        "  0.54263974  1.49091794  3.34548981  3.5712282   1.13756256 14.44506232\n",
                        "  1.40837068  2.14005384  2.90112344  1.40746994]\n"
                    ]
                }
            ],
            "source": [
                "import numpy as np \n",
                "import random\n",
                "\n",
                "normal = np.random.normal(size=100)\n",
                "chi = np.random.chisquare(3,100)\n",
                "\n",
                "print(f\"Distribucion normal : {normal}\")\n",
                "print(f\"Distribucion chi: {chi}\")\n"
            ]
        },
        {
            "cell_type": "code",
            "execution_count": 14,
            "id": "b1ef2519",
            "metadata": {},
            "outputs": [
                {
                    "name": "stdout",
                    "output_type": "stream",
                    "text": [
                        "La media de la dimensión normal es: -0.1154771740899162\n",
                        "La media de la dimensión chi es: 2.7213782568461777\n"
                    ]
                }
            ],
            "source": [
                "import statistics as stats\n",
                "media_normal = stats.mean(normal)\n",
                "media_chi = stats.mean(chi)\n",
                "\n",
                "print(f\"La media de la dimensión normal es: {media_normal}\")\n",
                "print(f\"La media de la dimensión chi es: {media_chi}\")"
            ]
        },
        {
            "cell_type": "code",
            "execution_count": 15,
            "id": "7c95a5bc",
            "metadata": {},
            "outputs": [
                {
                    "name": "stdout",
                    "output_type": "stream",
                    "text": [
                        "La mediana de la dimensión normal es: -0.1253608526925189\n",
                        "La mediana de la dimensión chi es: 2.2723166863463007\n"
                    ]
                }
            ],
            "source": [
                "mediana_normal = stats.median(normal)\n",
                "mediana_chi = stats.median(chi)\n",
                "\n",
                "print(f\"La mediana de la dimensión normal es: {mediana_normal}\")\n",
                "print(f\"La mediana de la dimensión chi es: {mediana_chi}\")"
            ]
        },
        {
            "cell_type": "code",
            "execution_count": 16,
            "id": "1a2ba580",
            "metadata": {},
            "outputs": [
                {
                    "name": "stdout",
                    "output_type": "stream",
                    "text": [
                        "La moda de la dimensión normal es: 0.30368017230477273\n",
                        "La moda de la dimensión chi es: 1.5838113451339382\n"
                    ]
                }
            ],
            "source": [
                "moda_normal = stats.mode(normal)\n",
                "moda_chi = stats.mode(chi)\n",
                "\n",
                "print(f\"La moda de la dimensión normal es: {moda_normal}\")\n",
                "print(f\"La moda de la dimensión chi es: {moda_chi}\")"
            ]
        },
        {
            "cell_type": "code",
            "execution_count": 17,
            "id": "2e6b790e",
            "metadata": {},
            "outputs": [
                {
                    "name": "stdout",
                    "output_type": "stream",
                    "text": [
                        "EL rango en la dimensión normal es: 4.044915864815231\n",
                        "El rango en la dimensión chi es: 14.293480660690099\n"
                    ]
                }
            ],
            "source": [
                "rango_normal = max(normal) - min(normal)\n",
                "rango_chi = max(chi) - min(chi)\n",
                "\n",
                "print(f\"EL rango en la dimensión normal es: {rango_normal}\")\n",
                "print(f\"El rango en la dimensión chi es: {rango_chi}\")"
            ]
        },
        {
            "cell_type": "code",
            "execution_count": 18,
            "id": "5e863050",
            "metadata": {},
            "outputs": [
                {
                    "name": "stdout",
                    "output_type": "stream",
                    "text": [
                        "La varianza de la dimensión normal es: 0.801386792549248\n",
                        "La varianza en la dimensión chi es: 5.5267804875790985\n",
                        "La desviación estandar en la dimensión normal es: 0.8952020959254106\n",
                        "La desviación estandar en la dimensión chi es: 2.3509105656275184\n"
                    ]
                }
            ],
            "source": [
                "varianza_normal = stats.variance(normal)\n",
                "std_normal = stats.stdev(normal)\n",
                "varianza_chi = stats.variance(chi)\n",
                "std_chi = stats.stdev(chi)\n",
                "\n",
                "print(f\"La varianza de la dimensión normal es: {varianza_normal}\")\n",
                "print(f\"La varianza en la dimensión chi es: {varianza_chi}\")\n",
                "print(f\"La desviación estandar en la dimensión normal es: {std_normal}\")\n",
                "print(f\"La desviación estandar en la dimensión chi es: {std_chi}\")"
            ]
        },
        {
            "cell_type": "code",
            "execution_count": 20,
            "id": "65a9a3d1",
            "metadata": {},
            "outputs": [
                {
                    "name": "stdout",
                    "output_type": "stream",
                    "text": [
                        "Normal: -0.15047918055627918\n",
                        "Chi: 2.0764549842262823\n"
                    ]
                }
            ],
            "source": [
                "from scipy.stats import skew\n",
                "\n",
                "skew_normal = skew(normal)\n",
                "print(f\"Normal: {skew_normal}\")\n",
                "skew_chi = skew(chi)\n",
                "print(f\"Chi: {skew_chi}\")"
            ]
        },
        {
            "cell_type": "code",
            "execution_count": 21,
            "id": "385f261e",
            "metadata": {},
            "outputs": [
                {
                    "name": "stdout",
                    "output_type": "stream",
                    "text": [
                        "Normal: -0.24650131266974107\n",
                        "Chi: 5.908339592581179\n"
                    ]
                }
            ],
            "source": [
                "from scipy.stats import kurtosis\n",
                "\n",
                "kurt_normal = kurtosis(normal)\n",
                "print(f\"Normal: {kurt_normal}\")\n",
                "kurt_chi = kurtosis(chi)\n",
                "print(f\"Chi: {kurt_chi}\")"
            ]
        },
        {
            "cell_type": "markdown",
            "id": "46c70c3d",
            "metadata": {},
            "source": [
                "### Exercise 2\n",
                "\n",
                "Write a Python program to calculate the standard deviation of the following data:\n",
                "\n",
                "```py\n",
                "data = [4, 2, 5, 8, 6]\n",
                "```"
            ]
        },
        {
            "cell_type": "code",
            "execution_count": 11,
            "id": "d590308e",
            "metadata": {},
            "outputs": [
                {
                    "name": "stdout",
                    "output_type": "stream",
                    "text": [
                        "2.23606797749979\n",
                        "2.23606797749979\n"
                    ]
                }
            ],
            "source": [
                "import math \n",
                "\n",
                "data = [4, 2, 5, 8, 6]\n",
                "\n",
                "def standard(data):\n",
                "    n = len(data)\n",
                "    if n < 2 : \n",
                "        return None\n",
                "    media = sum(data) / n \n",
                "    variance = sum((x - media)**2 for x in data) / (n - 1)\n",
                "    std_desviacion = math.sqrt(variance)\n",
                "    \n",
                "    return std_desviacion\n",
                "\n",
                "print(standard(data))\n",
                "\n",
                "\n"
            ]
        }
    ],
    "metadata": {
        "interpreter": {
            "hash": "9248718ffe6ce6938b217e69dbcc175ea21f4c6b28a317e96c05334edae734bb"
        },
        "kernelspec": {
            "display_name": "Python 3.9.12 ('ML-BOOTCAMP')",
            "language": "python",
            "name": "python3"
        },
        "language_info": {
            "codemirror_mode": {
                "name": "ipython",
                "version": 3
            },
            "file_extension": ".py",
            "mimetype": "text/x-python",
            "name": "python",
            "nbconvert_exporter": "python",
            "pygments_lexer": "ipython3",
            "version": "3.11.4"
        }
    },
    "nbformat": 4,
    "nbformat_minor": 5
}
